{
 "cells": [
  {
   "cell_type": "code",
   "execution_count": 329,
   "metadata": {},
   "outputs": [],
   "source": [
    "import hashlib\n",
    "import pandas as pd"
   ]
  },
  {
   "cell_type": "code",
   "execution_count": 330,
   "metadata": {},
   "outputs": [],
   "source": [
    "class Hash:\n",
    "   def __init__(self, text, sha256, md5):\n",
    "      self.text = text\n",
    "      self.sha256 = sha256\n",
    "      self.md5 = md5"
   ]
  },
  {
   "cell_type": "code",
   "execution_count": 331,
   "metadata": {},
   "outputs": [],
   "source": [
    "def _color_red_or_green(val):\n",
    "    color = 'red' if val == False else 'green' if val == True else ' '\n",
    "\n",
    "    return 'background-color: %s' % color\n"
   ]
  },
  {
   "cell_type": "code",
   "execution_count": 332,
   "metadata": {},
   "outputs": [],
   "source": [
    "def get_data():\n",
    "\n",
    "    texts = []\n",
    "\n",
    "    file = open(\"data.txt\", 'r')\n",
    "    for line in file.readlines():\n",
    "        line = line.strip()\n",
    "        line = line.split(';')\n",
    "        texts.append(Hash(line[0], line[1], line[2]))\n",
    "\n",
    "    return texts"
   ]
  },
  {
   "cell_type": "code",
   "execution_count": 333,
   "metadata": {},
   "outputs": [],
   "source": [
    "def get_hash256(text):\n",
    "    hash256 = hashlib.sha256(text.encode())\n",
    "    hash256 = hash256.hexdigest()\n",
    "\n",
    "    return hash256"
   ]
  },
  {
   "cell_type": "code",
   "execution_count": 334,
   "metadata": {},
   "outputs": [],
   "source": [
    "def get_md5(text):\n",
    "    md5 = hashlib.md5(text.encode())\n",
    "    md5 = md5.hexdigest()\n",
    "\n",
    "    return md5"
   ]
  },
  {
   "cell_type": "code",
   "execution_count": 335,
   "metadata": {},
   "outputs": [],
   "source": [
    "texts = get_data()\n",
    "results = []"
   ]
  },
  {
   "cell_type": "code",
   "execution_count": 336,
   "metadata": {},
   "outputs": [],
   "source": [
    "for sample in texts:\n",
    "    temp = []\n",
    "    temp.append(sample.text)\n",
    "    temp.append(get_hash256(sample.text) == sample.sha256)\n",
    "    temp.append(get_md5(sample.text) == sample.md5)\n",
    "    results.append(temp)"
   ]
  },
  {
   "cell_type": "code",
   "execution_count": 337,
   "metadata": {},
   "outputs": [],
   "source": [
    "df = pd.DataFrame(results, columns=[\"Texto\", \"SHA256\", \"MD5\"])"
   ]
  },
  {
   "cell_type": "code",
   "execution_count": 338,
   "metadata": {},
   "outputs": [
    {
     "name": "stderr",
     "output_type": "stream",
     "text": [
      "/tmp/ipykernel_7623/11956591.py:2: FutureWarning: this method is deprecated in favour of `Styler.hide(axis='index')`\n",
      "  df1.set_properties(**{'text-align': 'center'}).hide_index()\n"
     ]
    },
    {
     "data": {
      "text/html": [
       "<style type=\"text/css\">\n",
       "#T_60f52 th {\n",
       "  text-align: center;\n",
       "}\n",
       "#T_60f52_row0_col0, #T_60f52_row1_col0, #T_60f52_row2_col0, #T_60f52_row3_col0, #T_60f52_row4_col0, #T_60f52_row5_col0, #T_60f52_row6_col0, #T_60f52_row7_col0, #T_60f52_row8_col0, #T_60f52_row9_col0 {\n",
       "  text-align: center;\n",
       "  width: 500px;\n",
       "  background-color: ;\n",
       "}\n",
       "#T_60f52_row0_col1, #T_60f52_row0_col2, #T_60f52_row1_col2, #T_60f52_row3_col1, #T_60f52_row3_col2, #T_60f52_row5_col1, #T_60f52_row5_col2, #T_60f52_row6_col1, #T_60f52_row6_col2, #T_60f52_row7_col1, #T_60f52_row7_col2, #T_60f52_row9_col1 {\n",
       "  text-align: center;\n",
       "  background-color: green;\n",
       "}\n",
       "#T_60f52_row1_col1, #T_60f52_row2_col1, #T_60f52_row2_col2, #T_60f52_row4_col1, #T_60f52_row4_col2, #T_60f52_row8_col1, #T_60f52_row8_col2, #T_60f52_row9_col2 {\n",
       "  text-align: center;\n",
       "  background-color: red;\n",
       "}\n",
       "</style>\n",
       "<table id=\"T_60f52\">\n",
       "  <thead>\n",
       "    <tr>\n",
       "      <th id=\"T_60f52_level0_col0\" class=\"col_heading level0 col0\" >Texto</th>\n",
       "      <th id=\"T_60f52_level0_col1\" class=\"col_heading level0 col1\" >SHA256</th>\n",
       "      <th id=\"T_60f52_level0_col2\" class=\"col_heading level0 col2\" >MD5</th>\n",
       "    </tr>\n",
       "  </thead>\n",
       "  <tbody>\n",
       "    <tr>\n",
       "      <td id=\"T_60f52_row0_col0\" class=\"data row0 col0\" >A primeira das instituições criadas por Pe. Roberto Sabóia de Medeiros foi a antiga Escola Superior de Administração de Negócios de São Paulo - ESAN/SP.</td>\n",
       "      <td id=\"T_60f52_row0_col1\" class=\"data row0 col1\" >True</td>\n",
       "      <td id=\"T_60f52_row0_col2\" class=\"data row0 col2\" >True</td>\n",
       "    </tr>\n",
       "    <tr>\n",
       "      <td id=\"T_60f52_row1_col0\" class=\"data row1 col0\" >A FEI é uma Instituição vinculada estatutariamente à Companhia de Jesus</td>\n",
       "      <td id=\"T_60f52_row1_col1\" class=\"data row1 col1\" >False</td>\n",
       "      <td id=\"T_60f52_row1_col2\" class=\"data row1 col2\" >True</td>\n",
       "    </tr>\n",
       "    <tr>\n",
       "      <td id=\"T_60f52_row2_col0\" class=\"data row2 col0\" >Em 20 de janeiro de 1952 foi realizada a sessão solene da Congregação para a Colação de Grau da primeira turma da Faculdade de Engenharia Industrial.</td>\n",
       "      <td id=\"T_60f52_row2_col1\" class=\"data row2 col1\" >False</td>\n",
       "      <td id=\"T_60f52_row2_col2\" class=\"data row2 col2\" >False</td>\n",
       "    </tr>\n",
       "    <tr>\n",
       "      <td id=\"T_60f52_row3_col0\" class=\"data row3 col0\" >A Capela Santo Inácio de Loyola foi construída em 1978, em concreto aparente.</td>\n",
       "      <td id=\"T_60f52_row3_col1\" class=\"data row3 col1\" >True</td>\n",
       "      <td id=\"T_60f52_row3_col2\" class=\"data row3 col2\" >True</td>\n",
       "    </tr>\n",
       "    <tr>\n",
       "      <td id=\"T_60f52_row4_col0\" class=\"data row4 col0\" >Tendo como função principal a promoção do aprimoramento profissional no campo administrativo e tecnológico, o Instituto de Especialização em Ciências Administrativas e Tecnológicas (IECAT) foi criado em 1981</td>\n",
       "      <td id=\"T_60f52_row4_col1\" class=\"data row4 col1\" >False</td>\n",
       "      <td id=\"T_60f52_row4_col2\" class=\"data row4 col2\" >False</td>\n",
       "    </tr>\n",
       "    <tr>\n",
       "      <td id=\"T_60f52_row5_col0\" class=\"data row5 col0\" >Dentro de uma proposta de integração e de agregação de competências, visando a excelência de seus cursos, as instituições FEI, FCI e ESAN foram transformadas no Centro Universitário da FEI em 2002.</td>\n",
       "      <td id=\"T_60f52_row5_col1\" class=\"data row5 col1\" >True</td>\n",
       "      <td id=\"T_60f52_row5_col2\" class=\"data row5 col2\" >True</td>\n",
       "    </tr>\n",
       "    <tr>\n",
       "      <td id=\"T_60f52_row6_col0\" class=\"data row6 col0\" >O Centro Universitário da FEI passou a fazer parte do seleto grupo que produz ciência no Brasil, quando a CAPES aprovou o primeiro curso de Mestrado em Engenharia Elétrica em 2005.</td>\n",
       "      <td id=\"T_60f52_row6_col1\" class=\"data row6 col1\" >True</td>\n",
       "      <td id=\"T_60f52_row6_col2\" class=\"data row6 col2\" >True</td>\n",
       "    </tr>\n",
       "    <tr>\n",
       "      <td id=\"T_60f52_row7_col0\" class=\"data row7 col0\" >Em 2016 foi realizada a primeira edição do Congresso de Inovação - Megatendências 2050.</td>\n",
       "      <td id=\"T_60f52_row7_col1\" class=\"data row7 col1\" >True</td>\n",
       "      <td id=\"T_60f52_row7_col2\" class=\"data row7 col2\" >True</td>\n",
       "    </tr>\n",
       "    <tr>\n",
       "      <td id=\"T_60f52_row8_col0\" class=\"data row8 col0\" >Em 2012 o Centro Universitário FEI celebrou 70 anos de história e de excelência na inovação e na formação de mais de 60 mil profissionais altamente qualificados para o setor empresarial, entre administradores, engenheiros e cientistas da computação.</td>\n",
       "      <td id=\"T_60f52_row8_col1\" class=\"data row8 col1\" >False</td>\n",
       "      <td id=\"T_60f52_row8_col2\" class=\"data row8 col2\" >False</td>\n",
       "    </tr>\n",
       "    <tr>\n",
       "      <td id=\"T_60f52_row9_col0\" class=\"data row9 col0\" >Em 1999 iniciam-se as atividades da Faculdade de Informática - FCI, como o curso de Ciência da Computação.</td>\n",
       "      <td id=\"T_60f52_row9_col1\" class=\"data row9 col1\" >True</td>\n",
       "      <td id=\"T_60f52_row9_col2\" class=\"data row9 col2\" >False</td>\n",
       "    </tr>\n",
       "  </tbody>\n",
       "</table>\n"
      ],
      "text/plain": [
       "<pandas.io.formats.style.Styler at 0x7fb91d690eb0>"
      ]
     },
     "execution_count": 338,
     "metadata": {},
     "output_type": "execute_result"
    }
   ],
   "source": [
    "df1 = df.style.set_table_styles([dict(selector='th', props=[('text-align', 'center')])]).hide(axis='index')\n",
    "df1.set_properties(**{'text-align': 'center'}).hide_index()\n",
    "df1.set_properties(subset=['Texto'], **{'width': '500px'})\n",
    "df1.applymap(_color_red_or_green)"
   ]
  }
 ],
 "metadata": {
  "kernelspec": {
   "display_name": "Python 3.10.4 ('tcc_env')",
   "language": "python",
   "name": "python3"
  },
  "language_info": {
   "codemirror_mode": {
    "name": "ipython",
    "version": 3
   },
   "file_extension": ".py",
   "mimetype": "text/x-python",
   "name": "python",
   "nbconvert_exporter": "python",
   "pygments_lexer": "ipython3",
   "version": "3.10.4"
  },
  "orig_nbformat": 4,
  "vscode": {
   "interpreter": {
    "hash": "50c3a715107fe4dcdc7dcc1225e41dc08fefd31cb688eb0c1f730ec66093fb86"
   }
  }
 },
 "nbformat": 4,
 "nbformat_minor": 2
}
